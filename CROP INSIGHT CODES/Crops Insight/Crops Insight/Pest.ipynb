{
 "cells": [
  {
   "cell_type": "code",
   "execution_count": null,
   "metadata": {},
   "outputs": [],
   "source": [
    "from sklearn.linear_model import LogisticRegression\n",
    "from sklearn.svm import SVC\n",
    "import pandas as pd\n",
    "from sklearn.tree import DecisionTreeClassifier\n",
    "from sklearn.metrics import accuracy_score\n",
    "from sklearn.neighbors import KNeighborsClassifier\n",
    "dataTrng = pd.read_csv(\"Training Data.csv\")\n",
    "dataTest = pd.read_csv(\"Testing Data.csv\")\n",
    "\n",
    "data_input_training = dataTrng.drop(columns = [\"Observation Year\", \"PEST NAME\",\"Location\"])\n",
    "data_target_training = dataTrng[\"PEST NAME\"]\n",
    "data_input_testing = dataTest.drop(columns = [\"Observation Year\", \"PEST NAME\",\"Location\"])\n",
    "data_target_testing = dataTest [\"PEST NAME\"]\n",
    "\n",
    "model = DecisionTreeClassifier()\n",
    "model.fit(data_input_training, data_target_training)\n",
    "ResultDecisontree = model.predict(data_input_testing)\n",
    "ScoresDT = accuracy_score(ResultDecisontree,data_target_testing)\n",
    "ScoresDT\n",
    "\n",
    "neigh = KNeighborsClassifier(n_neighbors=25)\n",
    "neigh.fit(data_input_training, data_target_training)\n",
    "RsltKnn25 = neigh.predict(data_input_testing)\n",
    "ScoresKnn25 = accuracy_score(RsltKnn25,data_target_testing)\n",
    "ScoresKnn25\n",
    "\n",
    "SVCPoly = SVC(kernel='poly')\n",
    "SVCPoly.fit(data_input_training,data_target_training)\n",
    "ResltPoly=SVCPoly.predict(data_input_testing)\n",
    "ScorePoly = accuracy_score(ResltPoly,data_target_testing)\n",
    "ScorePoly\n",
    "\n",
    "SVCRBF = SVC(kernel='rbf')\n",
    "SVCRBF.fit(data_input_training,data_target_training)\n",
    "ResltRBF=SVCRBF.predict(data_input_testing)\n",
    "ScoreRBF = accuracy_score(ResltRBF,data_target_testing)\n",
    "ScoreRBF\n",
    "\n",
    "SVCSigmoid = SVC(kernel='sigmoid')\n",
    "SVCSigmoid.fit(data_input_training,data_target_training)\n",
    "ResltSigmoid=SVCSigmoid.predict(data_input_testing)\n",
    "ScoreSigmoid = accuracy_score(ResltSigmoid,data_target_testing)\n",
    "ScoreSigmoid\n",
    "\n",
    "SVCLinear = SVC(kernel='linear')\n",
    "SVCLinear.fit(data_input_training,data_target_training)\n",
    "ResltLinear=SVCLinear.predict(data_input_testing)\n",
    "ScoreLinear = accuracy_score(ResltLinear,data_target_testing)\n",
    "ScoreLinear"
   ]
  }
 ],
 "metadata": {
  "language_info": {
   "name": "python"
  }
 },
 "nbformat": 4,
 "nbformat_minor": 2
}
